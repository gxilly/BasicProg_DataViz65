{
  "nbformat": 4,
  "nbformat_minor": 0,
  "metadata": {
    "colab": {
      "name": "Introduction.ipynb",
      "provenance": [],
      "toc_visible": true,
      "authorship_tag": "ABX9TyO6Xm7+5c0QYRBErc2J1ZNU",
      "include_colab_link": true
    },
    "kernelspec": {
      "name": "python3",
      "display_name": "Python 3"
    },
    "language_info": {
      "name": "python"
    }
  },
  "cells": [
    {
      "cell_type": "markdown",
      "metadata": {
        "id": "view-in-github",
        "colab_type": "text"
      },
      "source": [
        "<a href=\"https://colab.research.google.com/github/gxilly/BasicProg_DataViz65/blob/main/Introduction.ipynb\" target=\"_parent\"><img src=\"https://colab.research.google.com/assets/colab-badge.svg\" alt=\"Open In Colab\"/></a>"
      ]
    },
    {
      "cell_type": "code",
      "execution_count": null,
      "metadata": {
        "id": "DnkO4WgDE_yX"
      },
      "outputs": [],
      "source": [
        ""
      ]
    },
    {
      "cell_type": "markdown",
      "source": [
        "ทิพเกษร ยอดคุณ (6330204425)"
      ],
      "metadata": {
        "id": "mFct2uIFFdsV"
      }
    },
    {
      "cell_type": "markdown",
      "source": [
        "#Markdown \n",
        "https://www.markdownguide.org/cheat-sheet/"
      ],
      "metadata": {
        "id": "IXZXERVLGC3x"
      }
    },
    {
      "cell_type": "markdown",
      "source": [
        "## heading2"
      ],
      "metadata": {
        "id": "2GwDzqLiGUSQ"
      }
    },
    {
      "cell_type": "code",
      "source": [
        "print('Thipkaesorn')"
      ],
      "metadata": {
        "colab": {
          "base_uri": "https://localhost:8080/"
        },
        "id": "aPDB_CUhFsAN",
        "outputId": "01ca401c-78be-4d35-dd7c-55befea48e51"
      },
      "execution_count": 1,
      "outputs": [
        {
          "output_type": "stream",
          "name": "stdout",
          "text": [
            "Thipkaesorn\n"
          ]
        }
      ]
    },
    {
      "cell_type": "code",
      "source": [
        ""
      ],
      "metadata": {
        "id": "JuDetyDgHIIE"
      },
      "execution_count": null,
      "outputs": []
    }
  ]
}