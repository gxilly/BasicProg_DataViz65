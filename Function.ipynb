{
  "nbformat": 4,
  "nbformat_minor": 0,
  "metadata": {
    "colab": {
      "name": "Function.ipynb",
      "provenance": [],
      "authorship_tag": "ABX9TyPDdRNDkrKEKdKjZy/SdRnQ",
      "include_colab_link": true
    },
    "kernelspec": {
      "name": "python3",
      "display_name": "Python 3"
    },
    "language_info": {
      "name": "python"
    }
  },
  "cells": [
    {
      "cell_type": "markdown",
      "metadata": {
        "id": "view-in-github",
        "colab_type": "text"
      },
      "source": [
        "<a href=\"https://colab.research.google.com/github/gxilly/BasicProg_DataViz65/blob/main/Function.ipynb\" target=\"_parent\"><img src=\"https://colab.research.google.com/assets/colab-badge.svg\" alt=\"Open In Colab\"/></a>"
      ]
    },
    {
      "cell_type": "markdown",
      "source": [
        "HW1 \n",
        "\n",
        "เขียน function \n",
        "แสดงความต่างของเวลา (Quiz1)\n",
        "โดย input อยู่ในรูปแบบ ```'09:11:50 - 12:30:15'```\n",
        "\n",
        "และทดลองรัน\n",
        "\n",
        "* '09:11:50 - 12:30:15'\n",
        "* '13:41:07 - 20:00:18'\n",
        "* '00:00:00 - 23:59:59'"
      ],
      "metadata": {
        "id": "UC_baL3zFDwe"
      }
    },
    {
      "cell_type": "code",
      "execution_count": 2,
      "metadata": {
        "colab": {
          "base_uri": "https://localhost:8080/"
        },
        "id": "iK7kN1-3Eh9e",
        "outputId": "e2b6ba43-f9c3-48c9-9da3-05bd923aae47"
      },
      "outputs": [
        {
          "output_type": "stream",
          "name": "stdout",
          "text": [
            "เวลา 09:11:50 - 12:30:15 แปลงเป็นความต่างของเวลาเป็นวินาทีได้ 11905 วินาที\n",
            "เวลา 13:41:07 - 20:00:18 แปลงเป็นความต่างของเวลาเป็นวินาทีได้ 22751 วินาที\n",
            "เวลา 00:00:00 - 23:59:59 แปลงเป็นความต่างของเวลาเป็นวินาทีได้ 86399 วินาที\n"
          ]
        }
      ],
      "source": [
        "def time_seconds(hour1,minute1,second1,hour2,minute2,second2):\n",
        "     a = ((hour2*60*60) + (minute2*60) + second2) - ((hour1*60*60) + (minute1*60) + second1)\n",
        "     return a\n",
        "print(f'เวลา 09:11:50 - 12:30:15 แปลงเป็นความต่างของเวลาเป็นวินาทีได้ {time_seconds(9,11,50,12,30,15)} วินาที')\n",
        "print(f'เวลา 13:41:07 - 20:00:18 แปลงเป็นความต่างของเวลาเป็นวินาทีได้ {time_seconds(13,41,7,20,0,18)} วินาที')\n",
        "print(f'เวลา 00:00:00 - 23:59:59 แปลงเป็นความต่างของเวลาเป็นวินาทีได้ {time_seconds(0,0,0,23,59,59)} วินาที')"
      ]
    }
  ]
}