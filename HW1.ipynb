{
  "nbformat": 4,
  "nbformat_minor": 0,
  "metadata": {
    "colab": {
      "name": "Untitled1.ipynb",
      "provenance": [],
      "authorship_tag": "ABX9TyMkYsLGF+1ZGSPqZD5grSl3",
      "include_colab_link": true
    },
    "kernelspec": {
      "name": "python3",
      "display_name": "Python 3"
    },
    "language_info": {
      "name": "python"
    }
  },
  "cells": [
    {
      "cell_type": "markdown",
      "metadata": {
        "id": "view-in-github",
        "colab_type": "text"
      },
      "source": [
        "<a href=\"https://colab.research.google.com/github/gxilly/BasicProg_DataViz65/blob/main/HW1.ipynb\" target=\"_parent\"><img src=\"https://colab.research.google.com/assets/colab-badge.svg\" alt=\"Open In Colab\"/></a>"
      ]
    },
    {
      "cell_type": "markdown",
      "source": [
        "HW1 \n",
        "\n",
        "เขียน function \n",
        "แสดงความต่างของเวลา (Quiz1)\n",
        "โดย input อยู่ในรูปแบบ ```'09:11:50 - 12:30:15'```\n",
        "\n",
        "และทดลองรัน\n",
        "\n",
        "* '09:11:50 - 12:30:15'\n",
        "* '13:41:07 - 20:00:18'\n",
        "* '00:00:00 - 23:59:59'"
      ],
      "metadata": {
        "id": "3yUVmRymTay0"
      }
    },
    {
      "cell_type": "code",
      "source": [
        "def print_Time(time) :\n",
        "      a= time\n",
        "      b=a.split(' - ')\n",
        "      x=b[0].split(':')\n",
        "      y=b[1].split(':')\n",
        "      print(b)\n",
        "      print(x)\n",
        "      print(y)\n",
        "      total_sec=((int(y[0])*3600)+(int(y[1])*60)+(int(y[2])))-((int(x[0])*3600)+(int(x[1])*60)+(int(x[2])))\n",
        "      print(f'แปลงเป็นความต่างของเวลาเป็นวินาทีได้ {total_sec} วินาที')"
      ],
      "metadata": {
        "id": "S36Kbh1NR8Rx"
      },
      "execution_count": 4,
      "outputs": []
    },
    {
      "cell_type": "code",
      "source": [
        "print_Time('09:11:50 - 12:30:15')"
      ],
      "metadata": {
        "colab": {
          "base_uri": "https://localhost:8080/"
        },
        "id": "L7L-QwFFk4Kk",
        "outputId": "2b1fa40c-bcd1-44be-9031-74e802d0394f"
      },
      "execution_count": 5,
      "outputs": [
        {
          "output_type": "stream",
          "name": "stdout",
          "text": [
            "['09:11:50', '12:30:15']\n",
            "['09', '11', '50']\n",
            "['12', '30', '15']\n",
            "แปลงเป็นความต่างของเวลาเป็นวินาทีได้ 11905 วินาที\n"
          ]
        }
      ]
    },
    {
      "cell_type": "code",
      "source": [
        "print_Time('13:41:07 - 20:00:18')"
      ],
      "metadata": {
        "colab": {
          "base_uri": "https://localhost:8080/"
        },
        "id": "fFvpPPRClbSj",
        "outputId": "9ee3e8f2-10a9-402d-83f8-6d6109843e17"
      },
      "execution_count": 6,
      "outputs": [
        {
          "output_type": "stream",
          "name": "stdout",
          "text": [
            "['13:41:07', '20:00:18']\n",
            "['13', '41', '07']\n",
            "['20', '00', '18']\n",
            "แปลงเป็นความต่างของเวลาเป็นวินาทีได้ 22751 วินาที\n"
          ]
        }
      ]
    },
    {
      "cell_type": "code",
      "source": [
        "print_Time('00:00:00 - 23:59:59')"
      ],
      "metadata": {
        "colab": {
          "base_uri": "https://localhost:8080/"
        },
        "id": "Jrv9KhcJliEa",
        "outputId": "478a0151-82ef-4119-bd9d-2e871435de21"
      },
      "execution_count": 7,
      "outputs": [
        {
          "output_type": "stream",
          "name": "stdout",
          "text": [
            "['00:00:00', '23:59:59']\n",
            "['00', '00', '00']\n",
            "['23', '59', '59']\n",
            "แปลงเป็นความต่างของเวลาเป็นวินาทีได้ 86399 วินาที\n"
          ]
        }
      ]
    }
  ]
}