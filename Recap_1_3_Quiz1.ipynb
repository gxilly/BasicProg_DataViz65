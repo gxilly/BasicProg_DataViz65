{
  "nbformat": 4,
  "nbformat_minor": 0,
  "metadata": {
    "colab": {
      "name": "Recap_1_3_Quiz1.ipynb",
      "provenance": [],
      "include_colab_link": true
    },
    "kernelspec": {
      "name": "python3",
      "display_name": "Python 3"
    },
    "language_info": {
      "name": "python"
    }
  },
  "cells": [
    {
      "cell_type": "markdown",
      "metadata": {
        "id": "view-in-github",
        "colab_type": "text"
      },
      "source": [
        "<a href=\"https://colab.research.google.com/github/gxilly/BasicProg_DataViz65/blob/main/Recap_1_3_Quiz1.ipynb\" target=\"_parent\"><img src=\"https://colab.research.google.com/assets/colab-badge.svg\" alt=\"Open In Colab\"/></a>"
      ]
    },
    {
      "cell_type": "markdown",
      "source": [
        "Quiz 1\n",
        "\n",
        "คำนวณเวลาเป็นความต่างของเวลาเป็นวินาทีของช่วงเวลาต่อไปนี้โดยใช้คำสั่ง split() ช่วย และ print ออกมาให้สวยงาม\n",
        "\n",
        "* 09:11:50 - 12:30:15\n",
        "* 13:41:07 - 20:00:18\n",
        "* 21:30:15 - 00:00:00\n",
        "* 00:00:00 - 23:59:59"
      ],
      "metadata": {
        "id": "loEqjEnl6PoI"
      }
    },
    {
      "cell_type": "code",
      "source": [
        "#09:11:50 - 12:30:15\n",
        "a = '09:11:50'\n",
        "a_sp = a.split(':')\n",
        "print(a_sp)\n",
        "ans1= int(a_sp[0])*3600+int (a_sp[1])*60+int (a_sp[2])\n",
        "b = '12:30:15'\n",
        "b_sp = b.split(':')\n",
        "print(b_sp)\n",
        "ans2= int(b_sp[0])*3600+int (b_sp[1])*60+int (b_sp[2])\n",
        "print(f'ช่วงเลาตั้งแต่ {a} - {b} มีความต่างของเวลาเป็น {ans2-ans1} วินาที')"
      ],
      "metadata": {
        "colab": {
          "base_uri": "https://localhost:8080/"
        },
        "id": "i1MLtRxR6o3j",
        "outputId": "e7247761-c8ca-4484-d5d7-5986c60a8b5d"
      },
      "execution_count": 38,
      "outputs": [
        {
          "output_type": "stream",
          "name": "stdout",
          "text": [
            "['09', '11', '50']\n",
            "['12', '30', '15']\n",
            "ช่วงเลาตั้งแต่ 09:11:50 - 12:30:15 มีความต่างของเวลาเป็น 11905 วินาที\n"
          ]
        }
      ]
    },
    {
      "cell_type": "code",
      "source": [
        "#13:41:07 - 20:00:18\n",
        "a = '13:41:07'\n",
        "a_sp = a.split(':')\n",
        "print(a_sp)\n",
        "ans3= int(a_sp[0])*3600+int (a_sp[1])*60+int (a_sp[2])\n",
        "b = '20:00:18'\n",
        "b_sp = b.split(':')\n",
        "print(b_sp)\n",
        "ans4= int(b_sp[0])*3600+int (b_sp[1])*60+int (b_sp[2])\n",
        "print(f'ช่วงเวลาตั้งแต่ {a} - {b} มีความต่างของเวลาเป็น {ans4-ans3} วินาที')"
      ],
      "metadata": {
        "colab": {
          "base_uri": "https://localhost:8080/"
        },
        "id": "BpYeMurZ82iY",
        "outputId": "ac2dffc1-3e8e-4afc-e120-744d8958faa2"
      },
      "execution_count": 39,
      "outputs": [
        {
          "output_type": "stream",
          "name": "stdout",
          "text": [
            "['13', '41', '07']\n",
            "['20', '00', '18']\n",
            "ช่วงเวลาตั้งแต่ 13:41:07 - 20:00:18 มีความต่างของเวลาเป็น 22751 วินาที\n"
          ]
        }
      ]
    },
    {
      "cell_type": "code",
      "source": [
        "#21:30:15 - 00:00:00\n",
        "a = '21:30:15'\n",
        "a_sp = a.split(':')\n",
        "print(a_sp)\n",
        "ans5= int(a_sp[0])*3600+int (a_sp[1])*60+int (a_sp[2])\n",
        "b = '00:00:00'\n",
        "b_sp = b.split(':')\n",
        "print(b_sp)\n",
        "ans6= int(b_sp[0])*3600+int (b_sp[1])*60+int (b_sp[2])\n",
        "print(f'ช่วงเวลาตั้งแต่ {a} - {b} มีความต่างของเวลาเป็น {ans5-ans6} วินาที')"
      ],
      "metadata": {
        "colab": {
          "base_uri": "https://localhost:8080/"
        },
        "id": "t0kWOTwo9QKw",
        "outputId": "70858925-a314-4852-f56d-fa19b92a065b"
      },
      "execution_count": 40,
      "outputs": [
        {
          "output_type": "stream",
          "name": "stdout",
          "text": [
            "['21', '30', '15']\n",
            "['00', '00', '00']\n",
            "ช่วงเวลาตั้งแต่ 21:30:15 - 00:00:00 มีความต่างของเวลาเป็น 77415 วินาที\n"
          ]
        }
      ]
    },
    {
      "cell_type": "code",
      "source": [
        "#00:00:00 - 23:59:59\n",
        "a = '00:00:00'\n",
        "a_sp = a.split(':')\n",
        "print(a_sp)\n",
        "ans7= int(a_sp[0])*3600+int (a_sp[1])*60+int (a_sp[2])\n",
        "b = '23:59:59'\n",
        "b_sp = b.split(':')\n",
        "print(b_sp)\n",
        "ans8= int(b_sp[0])*3600+int (b_sp[1])*60+int (b_sp[2])\n",
        "print(f'ช่วงเวลาตั้งแต่ {a} - {b} มีความต่างของเวลาเป็น {ans8-ans7} วินาที')"
      ],
      "metadata": {
        "colab": {
          "base_uri": "https://localhost:8080/"
        },
        "id": "DjM7HiGg9k6k",
        "outputId": "d167841e-856f-4a5b-937b-e19b2d67aae0"
      },
      "execution_count": 41,
      "outputs": [
        {
          "output_type": "stream",
          "name": "stdout",
          "text": [
            "['00', '00', '00']\n",
            "['23', '59', '59']\n",
            "ช่วงเวลาตั้งแต่ 00:00:00 - 23:59:59 มีความต่างของเวลาเป็น 86399 วินาที\n"
          ]
        }
      ]
    }
  ]
}